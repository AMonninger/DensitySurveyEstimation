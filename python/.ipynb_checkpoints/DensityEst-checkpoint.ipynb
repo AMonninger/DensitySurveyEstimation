{
 "cells": [
  {
   "cell_type": "markdown",
   "metadata": {},
   "source": [
    "### Density Estimation \n",
    "\n",
    "- Following Manski et al.(2009)\n",
    "- Three cases \n",
    "   - case 1. 3+ intervales with positive probabilities, to be fitted with a generalized beta distribution\n",
    "   - case 2. exactly 2 adjacent intervals with positive probabilities, to be fitted with a triangle distribution \n",
    "   - case 3. __one or multiple__ intervals with equal probabilities, to be fitted with a uniform distribution\n",
    "   "
   ]
  },
  {
   "cell_type": "code",
   "execution_count": 18,
   "metadata": {},
   "outputs": [],
   "source": [
    "from scipy.stats import gamma\n",
    "from scipy.stats import beta \n",
    "from scipy.stats import triang # new\n",
    "from scipy.stats import uniform # new\n",
    "import matplotlib.pyplot as plt\n",
    "from scipy.optimize import minimize\n",
    "import numpy as np\n",
    "import pandas as pd"
   ]
  },
  {
   "cell_type": "code",
   "execution_count": 19,
   "metadata": {},
   "outputs": [],
   "source": [
    "# We need that for the 90-10 ratio:\n",
    "def quantile(x,quantiles):\n",
    "    xsorted = sorted(x)\n",
    "    qvalues = [xsorted[int(q * len(xsorted))] for q in quantiles]\n",
    "    return qvalues"
   ]
  },
  {
   "cell_type": "markdown",
   "metadata": {},
   "source": [
    "### Case 1. Generalized Beta Distribution"
   ]
  },
  {
   "cell_type": "code",
   "execution_count": 55,
   "metadata": {
    "code_folding": []
   },
   "outputs": [],
   "source": [
    "def GeneralizedBetaEst(bin,probs):\n",
    "    \"\"\"\n",
    "    This fits a histogram with positive probabilities in at least 3 bins to a generalized beta distribution.\n",
    "    Depending on if there is open-ended bin on either side with positive probability, \n",
    "       the estimator decides to estimate 2 or 4 parameters, respectively. \n",
    "       \n",
    "    paramters\n",
    "    ---------\n",
    "    bin:  ndarray, (n+1) x 1 \n",
    "          positions for n bins in the histograms \n",
    "          \n",
    "    probs:  ndarrray n x 1\n",
    "          each entry is a probability for each of the n bins given by the surveyee, between 0 and 1\n",
    "                 \n",
    "    returns\n",
    "    -------\n",
    "    moments:  ndarray of 2 or 4  \n",
    "              2:  alpha and beta \n",
    "              4:  alpha, beta, lb, ub, e.g. lb=0 and ub=1 for a standard beta distribution\n",
    "    \"\"\"\n",
    "    # n+1 bins and n probs, both are arrays\n",
    "    if sum([probs[i]>0 for i in range(len(bin)-1)])<3:\n",
    "        print(\"Warning: at least three bins with positive probs are needed\")\n",
    "        para_est=[]\n",
    "    if sum(probs)!=1:\n",
    "        print(\"probs need to sum up to 1\")\n",
    "        para_est=[]\n",
    "    else:\n",
    "        cdf = np.cumsum(probs)\n",
    "        pprob=[i for i in range(len(bin)-1) if probs[i]>0]\n",
    "        lb=bin[min(pprob)]\n",
    "        print(\"lower bound is \"+str(lb))\n",
    "        ub=bin[max(pprob)+1]\n",
    "        print(\"upper bound is \"+str(ub))\n",
    "        \n",
    "        x0_2para = (2,1)\n",
    "        x0_4para = (2,1,0,1) \n",
    "        def distance2para(paras2): # if there is no open-ended bin with positive probs \n",
    "            a,b=paras2\n",
    "            distance= sum((beta.cdf(bin[1:],a,b,loc=lb,scale=ub-lb)-cdf)**2)\n",
    "            return distance\n",
    "        def distance4para(paras4): # if either on the left or right side one open-ended bin is with postive probs\n",
    "            a,b,lb,ub=paras4\n",
    "            distance= sum((beta.cdf(bin[1:],a,b,loc=lb,scale=ub-lb)-cdf)**2)\n",
    "            return distance\n",
    "        if lb==bin[0] and ub==bin[-1]:\n",
    "            para_est = minimize(distance4para,x0_4para,method='CG')['x'] \n",
    "        else:\n",
    "            para_est = minimize(distance2para,x0_2para,method='CG')['x']\n",
    "            scale = ub-lb\n",
    "            para_est = np.concatenate([para_est,\n",
    "                                      np.array([lb,scale])]\n",
    "                                     )\n",
    "        return para_est   # could be 2 or 4 parameters "
   ]
  },
  {
   "cell_type": "code",
   "execution_count": 56,
   "metadata": {
    "code_folding": []
   },
   "outputs": [],
   "source": [
    "def GeneralizedBetaStats(a,b,lb,ub):\n",
    "    \"\"\"\n",
    "    This function computes the moments of a generalized beta distribution, mean and variance for now. \n",
    "    \n",
    "    parameters\n",
    "    ----------\n",
    "    a, b, lb, ub: floats #changed to a,b instead of alpha and beta\n",
    "    \n",
    "    returns\n",
    "    -------\n",
    "    dict:  2 keys\n",
    "           mean, float \n",
    "           variance, float\n",
    "           standard deviation, float\n",
    "           ratio 90 10, float\n",
    "    \"\"\"\n",
    "    # lb=0 and ub=1 for a standard beta distribution\n",
    "    mean = lb + (ub-lb)*a/(a+b)\n",
    "    var = (ub-lb)**2*a*b/((a+b)**2*(a+b+1))\n",
    "    std = np.sqrt(var)\n",
    "    # ratio\n",
    "    x = np.linspace(beta.ppf(0.01, a, b), beta.ppf(0.99, a, b), 100)\n",
    "    quantiles = quantile(x,[0.1, 0.9])\n",
    "    iqr1090 = quantiles[0]/quantiles[1]\n",
    "    return {\"mean\": mean,\"variance\":var, \"std\": std, \"iqr1090\": iqr1090}"
   ]
  },
  {
   "cell_type": "markdown",
   "metadata": {},
   "source": [
    "### Case 2. Isosceles Triangle distribution\n",
    "\n",
    "Two adjacent intervales $[a,b]$,$[b,c]$ are assigned probs $\\alpha$ and $1-\\alpha$, respectively. In the case of $\\alpha<1/2$, we need to solve parameter $t$ such that $[b-t,c]$ is the interval of the distribution. Denote the height of the trangle distribution $h$. Then following two restrictions need to satisfy\n",
    "\n",
    "\\begin{eqnarray}\n",
    "\\frac{t^2}{t+c-b} h = \\alpha \\\\\n",
    "(t+(c-b))h = 2\n",
    "\\end{eqnarray}\n",
    "\n",
    "The two equations can solve $t$ and $h$\n",
    "\n",
    "$$\\frac{t^2}{(t+c-b)^2}=\\alpha$$\n",
    "\n",
    "$$t^2 = \\alpha t^2 + 2\\alpha t(c-b) + \\alpha(c-b)^2$$\n",
    "\n",
    "$$(1-\\alpha) t^2 - 2\\alpha(c-b) t - \\alpha(c-b)^2=0$$\n",
    "\n",
    "$$\\implies t =\\frac{2\\alpha(c-b)+\\sqrt{4\\alpha^2(c-b)^2+4(1-\\alpha)\\alpha(c-b)^2}}{2(1-\\alpha)} = \\frac{\\alpha(c-b)+(c-b)\\sqrt{\\alpha}}{(1-\\alpha)}$$\n",
    "\n",
    "$$\\implies h = \\frac{2}{t+c-b}$$\n",
    "\n",
    "Rearrange to solve for c:\n",
    "$$ \\implies c = (t - b) - \\frac{2}{h} $$\n",
    "$$ \\implies c = ub - \\frac{2}{h} $$"
   ]
  },
  {
   "cell_type": "code",
   "execution_count": 57,
   "metadata": {
    "code_folding": []
   },
   "outputs": [],
   "source": [
    "def TriangleEst(bin,probs):\n",
    "    \"\"\"\n",
    "    The function fits histograms with exactly two adjacent \n",
    "       bins with positive probabilitie to a triangular distribution.\n",
    "    It genetes the bounds of the isoceles triangle distribution. \n",
    "    \n",
    "    paramters\n",
    "    ---------\n",
    "    bin:  ndarray, (n+1) x 1 \n",
    "          positions for n bins in the histograms \n",
    "          \n",
    "    probs:  ndarrray n x 1\n",
    "          each entry is a probability for each of the n bins given by the surveyee, between 0 and 1\n",
    "    \n",
    "    returns\n",
    "    --------\n",
    "    dict: 3 keys\n",
    "          lb: float, left bound \n",
    "          ub: float, right bound\n",
    "          h:  float, height of the triangle\n",
    "          c: float, mode\n",
    "    \n",
    "    \"\"\"\n",
    "    if sum([probs[i]>0 for i in range(len(bin)-1)])==2:\n",
    "        print(\"There are two bins with positive probs\")\n",
    "        pprobadj = [i for i in range(1,len(bin)-3) if probs[i]>0 and probs[i+1]>0]   # from 1 to -3 bcz excluding the open-ended on the left/right\n",
    "        if sum(pprobadj)>0:\n",
    "            print('The two intervals are adjacent and not open-ended')\n",
    "            min_i = min(pprobadj)\n",
    "            #print(min_i)\n",
    "            #print(probs[min_i])\n",
    "            #print(probs[min_i+1])\n",
    "            #print(pprobadj[0])\n",
    "            #print(pprobadj[0]+2)\n",
    "            #print(probs[min_i] > probs[min_i+1])\n",
    "            #print(bin[pprobadj[0]])\n",
    "            #print(bin[pprobadj[0]+2])\n",
    "            if probs[min_i] > probs[min_i+1]:\n",
    "                alf = probs[min_i+1]\n",
    "                lb = bin[pprobadj[0]]\n",
    "                scl = bin[pprobadj[0]+1]-bin[pprobadj[0]]\n",
    "                t = scl*(alf/(1-alf) +np.sqrt(alf)/(1-alf))\n",
    "                ub = bin[pprobadj[0]+1]+t \n",
    "                h = 2/(t+bin[pprobadj[0]+1]-bin[pprobadj[0]])\n",
    "                c = ub - 2/h\n",
    "            if probs[min_i] < probs[min_i+1]:\n",
    "                alf = probs[min_i]\n",
    "                ub = bin[pprobadj[0]+2]\n",
    "                scl = bin[pprobadj[0]+2]-bin[pprobadj[0]+1]\n",
    "                t = scl*(alf/(1-alf) + np.sqrt(alf)/(1-alf))\n",
    "                lb = bin[pprobadj[0]+1]-t  \n",
    "                h = 2/(t+bin[pprobadj[0]+2]-bin[pprobadj[0]+1])\n",
    "                c = ub - 2/h\n",
    "            if probs[min_i] == probs[min_i+1]:\n",
    "                ub=bin[pprobadj[0]]\n",
    "                lb=bin[pprobadj[0]+2]\n",
    "                h = 2/(ub-lb)\n",
    "                c = ub - 2/h\n",
    "        else:\n",
    "            lb = []\n",
    "            ub = []\n",
    "            h = []\n",
    "            c = []\n",
    "            print('Warning: the two intervals are not adjacent or are open-ended')\n",
    "    return {'lb':lb,'ub':ub,\"height\":h,\"mode\":c}"
   ]
  },
  {
   "cell_type": "markdown",
   "metadata": {},
   "source": [
    "#### pdf of a triangle distribution\n",
    "\n",
    "\\begin{eqnarray}\n",
    "f(x)= & 1/2(x-lb) \\frac{x-lb}{(ub+lb)/2}h \\quad \\text{if } x <(lb+ub)/2 \\\\\n",
    "& = 1/2(ub-x) \\frac{ub-x}{(ub+lb)/2}h \\quad \\text{if } x \\geq(lb+ub)/2\n",
    "\\end{eqnarray}\n",
    "\n",
    "\\begin{eqnarray}\n",
    "& Var(x) & = \\int^{ub}_{lb} (x-(lb+ub)/2)^2 f(x) dx \\\\\n",
    "& & = 2 \\int^{(ub+lb)/2}_{lb} (x-(lb+ub)/2)^2 (x-lb) \\frac{x-lb}{(ub+lb)/2}h dx\n",
    "\\end{eqnarray}\n",
    "\n"
   ]
  },
  {
   "cell_type": "code",
   "execution_count": 58,
   "metadata": {
    "code_folding": []
   },
   "outputs": [],
   "source": [
    "def TriangleStats(lb,ub,c):\n",
    "    \"\"\"\n",
    "    parameters\n",
    "    ----------\n",
    "    lb and ub:  float, left and right bounds of the triangle distribution\n",
    "    c : float, mode\n",
    "    \n",
    "    returns\n",
    "    -------\n",
    "    dict:  2 keys for now\n",
    "           mean: estimated mean\n",
    "           variance: estimated variance\n",
    "           std, float \n",
    "           irq1090, float  \n",
    "    \"\"\"\n",
    "    \n",
    "    mean = (lb+ub)/2\n",
    "    var = (lb**2+ub**2+(lb+ub)**2/4-lb*(lb+ub)/2-ub*(lb+ub)/2-lb*ub)/18\n",
    "    std = np.sqrt(var)\n",
    "    x = np.linspace(triang.ppf(0.01, c, lb, ub), triang.ppf(0.99, c, lb, ub), 100)\n",
    "    quantiles = quantile(x,[0.1, 0.9])\n",
    "    iqr1090 = quantiles[0]/quantiles[1]\n",
    "    return {\"mean\": mean,\"variance\":var, \"std\": std, \"iqr1090\": iqr1090}"
   ]
  },
  {
   "cell_type": "markdown",
   "metadata": {},
   "source": [
    "### Case 3. Uniform Distribution"
   ]
  },
  {
   "cell_type": "code",
   "execution_count": 59,
   "metadata": {
    "code_folding": []
   },
   "outputs": [],
   "source": [
    "def UniformEst1bin(bin,probs):\n",
    "    \"\"\"\n",
    "    This function fits a histogram with only one bin of positive probability to a uniform distribution.\n",
    "    \n",
    "    paramters\n",
    "    ---------\n",
    "    bin:  ndarray, (n+1) x 1 \n",
    "          positions for n bins in the histograms \n",
    "          \n",
    "    probs:  ndarrray n x 1\n",
    "          each entry is a probability for each of the n bins given by the surveyee, between 0 and 1\n",
    "    \n",
    "    returns\n",
    "    --------\n",
    "    dict: 2 keys\n",
    "          lb and ub, float. the left and right bounds of the uniform distribution\n",
    "    \"\"\"\n",
    "    pprob=[i for i in range(len(bin)-1) if probs[i]>0]\n",
    "    if len(pprob)==1:\n",
    "        if pprob[0]!=0 and pprob[0]!=len(bin)-1:\n",
    "            lb = bin[pprob[0]]\n",
    "            ub = bin[pprob[0]+1]\n",
    "        else:\n",
    "            lb=[]\n",
    "            ub=[]\n",
    "    else:\n",
    "        lb=[]\n",
    "        ub=[]\n",
    "    return {\"lb\":lb,\"ub\":ub}"
   ]
  },
  {
   "cell_type": "code",
   "execution_count": 60,
   "metadata": {},
   "outputs": [],
   "source": [
    "# New function: Takes into account that many bins have the same probability\n",
    "def UniformEst(bins,probs):\n",
    "    \"\"\"\n",
    "    This function fits a histogram with only one bin of positive probability to a uniform distribution.\n",
    "    \n",
    "    paramters\n",
    "    ---------\n",
    "    bins:  ndarray, (n+1) x 1 \n",
    "          positions for n bins in the histograms \n",
    "          \n",
    "    probs:  ndarrray n x 1\n",
    "          each entry is a probability for each of the n bins given by the surveyee, between 0 and 1\n",
    "    \n",
    "    returns\n",
    "    --------\n",
    "    dict: 2 keys\n",
    "          lb and ub, float. the left and right bounds of the uniform distribution\n",
    "    \"\"\"    \n",
    "    pos_bins = []\n",
    "    # find non zero positions\n",
    "    pos_entry = np.argwhere(probs!=0)\n",
    "            \n",
    "    for i in pos_entry:\n",
    "        pos_bins.append(probs[i])\n",
    "    pos_bins = np.hstack(pos_bins)   # clean    \n",
    "\n",
    "    if len(pos_entry)>1:\n",
    "        for i in range(len(pos_entry)-1) :\n",
    "            if pos_entry[i+1] - pos_entry[i] !=1:\n",
    "                pos_bins = [] \n",
    "               \n",
    "    if len(pos_bins)==1:\n",
    "        print('length pos bins is 1')\n",
    "        lb = bins[pos_entry[0]]\n",
    "        lb = lb[0] # into float\n",
    "        ub = bins[pos_entry[0] + 1]\n",
    "        ub = ub[0] # into float\n",
    "    if len(pos_bins)>1:\n",
    "        print('length pos bins is > 1')\n",
    "        lb = bins[pos_entry[0]]\n",
    "        lb = lb[0] # into float\n",
    "        ub = bins[pos_entry[0] + len(pos_bins)] \n",
    "        ub = ub[0] # into float\n",
    "    if len(pos_bins)==0:\n",
    "        lb=[]\n",
    "        ub=[]\n",
    "\n",
    "    return {\"lb\":lb,\"ub\":ub}"
   ]
  },
  {
   "cell_type": "code",
   "execution_count": 61,
   "metadata": {
    "code_folding": []
   },
   "outputs": [],
   "source": [
    "def UniformStats(lb,ub):\n",
    "    \"\"\"\n",
    "    The function computes the moment of a uniform distribution.\n",
    "    \n",
    "    parameters\n",
    "    ----------\n",
    "    lb and ub, floats, left and right bounds of uniform distribution\n",
    "    \n",
    "    returns\n",
    "    --------\n",
    "    dict:  2 keys for now\n",
    "           mean: estimated mean\n",
    "           variance: estimated variance \n",
    "           std, float \n",
    "           irq1090, float  \n",
    "    \"\"\"\n",
    "    \n",
    "    if lb and ub: ## empty list is True\n",
    "        mean = (lb+ub)/2\n",
    "        var = (ub-lb)**2/12\n",
    "        std = np.sqrt(var)\n",
    "        x = np.linspace(uniform.ppf(lb),uniform.ppf(ub), 100)\n",
    "        p10 = np.percentile(x, 10)\n",
    "        p90 = np.percentile(x, 90)\n",
    "        iqr1090 = p90/p10\n",
    "    else:\n",
    "        mean=[]\n",
    "        var=[]\n",
    "        std = []\n",
    "        iqr1090 = []\n",
    "    return {\"mean\": mean,\"variance\":var, \"std\": std, \"iqr1090\": iqr1090}"
   ]
  },
  {
   "cell_type": "markdown",
   "metadata": {},
   "source": [
    "### Test using made-up data"
   ]
  },
  {
   "cell_type": "code",
   "execution_count": 63,
   "metadata": {
    "code_folding": []
   },
   "outputs": [
    {
     "name": "stdout",
     "output_type": "stream",
     "text": [
      "lower bound is 0.2\n",
      "upper bound is 1.0\n"
     ]
    },
    {
     "data": {
      "text/plain": [
       "array([2.08099415, 4.90193686, 0.2       , 0.8       ])"
      ]
     },
     "execution_count": 63,
     "metadata": {},
     "output_type": "execute_result"
    }
   ],
   "source": [
    "## test 1: GenBeta Dist\n",
    "sim_bins= np.array([0,0.2,0.32,0.5,1,1.2])\n",
    "sim_probs=np.array([0,0.2,0.5,0.3,0])\n",
    "GeneralizedBetaEst(sim_bins,sim_probs)"
   ]
  },
  {
   "cell_type": "code",
   "execution_count": 64,
   "metadata": {
    "code_folding": [
     0
    ]
   },
   "outputs": [
    {
     "name": "stdout",
     "output_type": "stream",
     "text": [
      "There are two bins with positive probs\n",
      "The two intervals are adjacent and not open-ended\n"
     ]
    },
    {
     "data": {
      "text/plain": [
       "{'lb': 0.1743769410125095,\n",
       " 'ub': 0.5,\n",
       " 'height': 6.142071161111579,\n",
       " 'mode': 0.1743769410125095}"
      ]
     },
     "execution_count": 64,
     "metadata": {},
     "output_type": "execute_result"
    }
   ],
   "source": [
    "## test 2: Triangle Dist\n",
    "sim_bins2 = np.array([0,0.2,0.32,0.5,1,1.2])\n",
    "sim_probs2=np.array([0,0.2,0.8,0,0])\n",
    "TriangleEst(sim_bins2,sim_probs2)"
   ]
  },
  {
   "cell_type": "code",
   "execution_count": 65,
   "metadata": {
    "code_folding": []
   },
   "outputs": [
    {
     "name": "stdout",
     "output_type": "stream",
     "text": [
      "length pos bins is 1\n",
      "{'lb': 0.32, 'ub': 0.5}\n"
     ]
    },
    {
     "data": {
      "text/plain": [
       "{'mean': 0.41000000000000003,\n",
       " 'variance': 0.0026999999999999997,\n",
       " 'std': 0.05196152422706632,\n",
       " 'iqr1090': 1.4260355029585798}"
      ]
     },
     "execution_count": 65,
     "metadata": {},
     "output_type": "execute_result"
    }
   ],
   "source": [
    "## test 3: Uniform Dist with one interval\n",
    "sim_bins3 = np.array([0,0.2,0.32,0.5,1,1.2])\n",
    "sim_probs3 = np.array([0,0,1,0,0])\n",
    "para_est= UniformEst(sim_bins3,sim_probs3)\n",
    "print(para_est)\n",
    "UniformStats(para_est['lb'],para_est['ub']) "
   ]
  },
  {
   "cell_type": "code",
   "execution_count": 66,
   "metadata": {
    "lines_to_next_cell": 2
   },
   "outputs": [
    {
     "name": "stdout",
     "output_type": "stream",
     "text": [
      "length pos bins is > 1\n",
      "{'lb': 0.0, 'ub': 1.2}\n"
     ]
    },
    {
     "data": {
      "text/plain": [
       "{'mean': [], 'variance': [], 'std': [], 'iqr1090': []}"
      ]
     },
     "execution_count": 66,
     "metadata": {},
     "output_type": "execute_result"
    }
   ],
   "source": [
    "## test 4: Uniform Dist with multiple adjacent bins with same probabilities \n",
    "sim_bins3 = np.array([0,0.2,0.32,0.5,1,1.2])\n",
    "sim_probs3=np.array([0.2,0.2,0.2,0.2,0.2])\n",
    "para_est= UniformEst(sim_bins3,sim_probs3)\n",
    "print(para_est)\n",
    "UniformStats(para_est['lb'],para_est['ub']) "
   ]
  },
  {
   "cell_type": "code",
   "execution_count": 67,
   "metadata": {},
   "outputs": [
    {
     "name": "stdout",
     "output_type": "stream",
     "text": [
      "{'lb': [], 'ub': []}\n"
     ]
    },
    {
     "data": {
      "text/plain": [
       "{'mean': [], 'variance': [], 'std': [], 'iqr1090': []}"
      ]
     },
     "execution_count": 67,
     "metadata": {},
     "output_type": "execute_result"
    }
   ],
   "source": [
    "## test 5: Uniform Dist with multiple non-adjacent bins with equal probabilities\n",
    "sim_bins3 = np.array([0,0.2,0.32,0.5,1,1.2])\n",
    "sim_probs3=np.array([0,0.5,0,0.5,0])\n",
    "para_est= UniformEst(sim_bins3,sim_probs3)\n",
    "print(para_est)\n",
    "UniformStats(para_est['lb'],para_est['ub']) "
   ]
  },
  {
   "cell_type": "markdown",
   "metadata": {},
   "source": [
    "### Test with simulated data from known distribution \n",
    "- we simulate data from a true beta distribution with known parameters\n",
    "- then we estimate the parameters with our module and see how close it is with the true parameters "
   ]
  },
  {
   "cell_type": "code",
   "execution_count": 68,
   "metadata": {
    "code_folding": []
   },
   "outputs": [
    {
     "name": "stdout",
     "output_type": "stream",
     "text": [
      "lower bound is 0.04455832872697715\n",
      "upper bound is 2.967992970785792\n",
      "Estimated parameters [0.8688306  1.98933199 0.18973271 3.00582126]\n",
      "Estimated moments: {'mean': 1.045773551688608, 'variance': 0.4348911824849218, 'std': 0.6594627984086152, 'iqr1090': 0.11379480190414623}\n",
      "True simulated moments: 1.0429116112610877 0.44222909689144324 0.6650030803623719\n"
     ]
    },
    {
     "data": {
      "image/png": "[encoded data removed]",
      "text/plain": [
       "<Figure size 432x288 with 1 Axes>"
      ]
     },
     "metadata": {
      "needs_background": "light"
     },
     "output_type": "display_data"
    }
   ],
   "source": [
    "## simulate a generalized distribution\n",
    "sim_n=200\n",
    "true_alpha,true_beta,true_loc,true_scale=1.4,2.2,0,3\n",
    "sim_data = beta.rvs(true_alpha,true_beta,\n",
    "                    loc=true_loc,\n",
    "                    scale=true_scale,\n",
    "                    size=sim_n)\n",
    "sim_bins2=plt.hist(sim_data)[1]\n",
    "sim_probs2=plt.hist(sim_data)[0]/sim_n\n",
    "sim_est=GeneralizedBetaEst(sim_bins2,sim_probs2)\n",
    "\n",
    "print('Estimated parameters',sim_est)\n",
    "\n",
    "print('Estimated moments:',GeneralizedBetaStats(sim_est[0],\n",
    "                          sim_est[1],\n",
    "                          sim_est[2],\n",
    "                          sim_est[3]))\n",
    "\n",
    "print('True simulated moments:',\n",
    "      np.mean(sim_data),\n",
    "     np.std(sim_data)**2,\n",
    "     np.std(sim_data))"
   ]
  },
  {
   "cell_type": "code",
   "execution_count": 69,
   "metadata": {
    "code_folding": [
     0
    ]
   },
   "outputs": [
    {
     "data": {
      "text/plain": [
       "<matplotlib.legend.Legend at 0x7ff6b316d070>"
      ]
     },
     "execution_count": 69,
     "metadata": {},
     "output_type": "execute_result"
    },
    {
     "data": {
      "image/png": "[encoded data removed]",
      "text/plain": [
       "<Figure size 432x288 with 1 Axes>"
      ]
     },
     "metadata": {
      "needs_background": "light"
     },
     "output_type": "display_data"
    }
   ],
   "source": [
    "## plot the estimated generalized beta versus the histogram of simulated data drawn from a true beta distribution \n",
    "sim_x = np.linspace(true_loc,true_loc+true_scale,sim_n)\n",
    "sim_pdf=beta.pdf(sim_x,sim_est[0],sim_est[1],loc=true_loc,scale=true_scale)\n",
    "plt.plot(sim_x,sim_pdf,label='Estimated pdf')\n",
    "plt.hist(sim_data,density=True,label='Dist of Simulated Data')\n",
    "plt.legend(loc=0)"
   ]
  },
  {
   "cell_type": "code",
   "execution_count": 74,
   "metadata": {
    "code_folding": []
   },
   "outputs": [],
   "source": [
    "## This is the synthesized density estimation function\n",
    "def SynDensityStat(bin,probs):\n",
    "    \"\"\"\n",
    "    Synthesized density estimate module:\n",
    "    It first detects the shape of histograms\n",
    "    Then accordingly invoke the distribution-specific tool.\n",
    "    \n",
    "    paramters\n",
    "    ---------\n",
    "    bin:  ndarray, (n+1) x 1 \n",
    "          positions for n bins in the histograms \n",
    "          \n",
    "    probs:  ndarrray n x 1\n",
    "          each entry is a probability for each of the n bins given by the surveyee, between 0 and 1\n",
    "    \n",
    "    returns\n",
    "    -------\n",
    "    moments: dict with 2 keys (more to be added in future)\n",
    "            mean: empty or float, estimated mean \n",
    "            variance:  empty or float, estimated variance \n",
    "            std: empty or float, estimated standard deviation \n",
    "            irq1090: empty or float, estimated irq1090 \n",
    "    \n",
    "    \"\"\"\n",
    "    if sum(probs)==1:\n",
    "        print(\"probs sum up to 1\")\n",
    "        ## Check if all bins have the same probability (special case for which we need Uniform and not Beta distributions)\n",
    "        all_pos = 0\n",
    "        pos_bin = []\n",
    "        # find non zero positions\n",
    "        pos_entry = np.argwhere(probs!=0)\n",
    "            \n",
    "        for i in pos_entry:\n",
    "            pos_bin.append(probs[i])\n",
    "        pos_bin = np.hstack(pos_bin)   # clean    \n",
    "\n",
    "        if len(pos_entry)>1:\n",
    "            for i in range(len(pos_entry)-1) :\n",
    "                if pos_entry[i+1] - pos_entry[i] !=1:\n",
    "                    pos_bin = [] \n",
    "                \n",
    "        if len(pos_bin)!=0:\n",
    "            if np.all(pos_bin == pos_bin[0]):\n",
    "                all_pos = 1\n",
    "                \n",
    "                \n",
    "        ## Beta distributions \n",
    "        if sum([probs[i]>0 for i in range(len(bin)-1)])>=3 and all_pos == 0:\n",
    "            print(\"at least three bins with positive probs\")\n",
    "            para_est=GeneralizedBetaEst(bin,probs)\n",
    "            if len(para_est)==4:\n",
    "                print('4 parameters')\n",
    "                return GeneralizedBetaStats(para_est[0],para_est[1],para_est[2],para_est[3])\n",
    "            if len(para_est)==2:\n",
    "                print('2 parameters')\n",
    "                return GeneralizedBetaStats(para_est[0],para_est[1],0,1)\n",
    "        ## Triangle distributions\n",
    "        if sum([probs[i]>0 for i in range(len(bin)-1)])==2 and all_pos == 0:\n",
    "            #print(\"There are two bins with positive probs\")\n",
    "            pprobadj = [i for i in range(1,len(bin)-3) if probs[i]>0 and probs[i+1]>0]   # from 1 to -3 bcz excluding the open-ended on the left/right\n",
    "            if sum(pprobadj)>0:\n",
    "                #print('The two intervals are adjacent and not open-ended')\n",
    "                para_est=TriangleEst(bin,probs)\n",
    "                return TriangleStats(para_est['lb'],para_est['ub'], para_est['mode'])\n",
    "        ## Uniform distributions\n",
    "        if sum([probs[i]>0 for i in range(len(bin)-1)])==1:\n",
    "            print('Only one interval with positive probs')\n",
    "            para_est= UniformEst(bin,probs)\n",
    "            print(para_est)\n",
    "            return UniformStats(para_est['lb'],para_est['ub'])\n",
    "        if all_pos == 1:\n",
    "            print(\"all bins have the same prob\")\n",
    "            para_est= UniformEst(bin,probs)\n",
    "            print(para_est)\n",
    "            return UniformStats(para_est['lb'],para_est['ub'])            \n",
    "        else:\n",
    "            return {\"mean\":[],\"variance\":[], \"std\":[], \"irq1090\":[]}\n",
    "    else:\n",
    "        return {\"mean\":[],\"variance\":[], \"std\":[], \"irq1090\":[]}"
   ]
  },
  {
   "cell_type": "code",
   "execution_count": 75,
   "metadata": {
    "code_folding": []
   },
   "outputs": [
    {
     "name": "stdout",
     "output_type": "stream",
     "text": [
      "probs sum up to 1\n",
      "at least three bins with positive probs\n",
      "lower bound is 0.04455832872697715\n",
      "upper bound is 2.967992970785792\n",
      "4 parameters\n",
      "probs sum up to 1\n",
      "at least three bins with positive probs\n",
      "lower bound is 0.04455832872697715\n",
      "upper bound is 2.967992970785792\n",
      "4 parameters\n"
     ]
    },
    {
     "data": {
      "text/plain": [
       "0.11379480190414623"
      ]
     },
     "execution_count": 75,
     "metadata": {},
     "output_type": "execute_result"
    }
   ],
   "source": [
    "## testing the synthesized estimator function using an arbitrary example created above\n",
    "SynDensityStat(sim_bins2,sim_probs2)['variance']\n",
    "SynDensityStat(sim_bins2,sim_probs2)['iqr1090']"
   ]
  },
  {
   "cell_type": "code",
   "execution_count": 76,
   "metadata": {
    "code_folding": []
   },
   "outputs": [],
   "source": [
    "### loading probabilistic data  \n",
    "IndSPF=pd.read_stata('../data/sample_data.dta')   \n",
    "# SPF inflation quarterly \n",
    "# 2 Inf measures: CPI and PCE\n",
    "# 2 horizons: y-1 to y  and y to y+1"
   ]
  },
  {
   "cell_type": "code",
   "execution_count": 77,
   "metadata": {
    "code_folding": []
   },
   "outputs": [
    {
     "name": "stdout",
     "output_type": "stream",
     "text": [
      "There are 10 bins in SPF\n"
     ]
    }
   ],
   "source": [
    "## survey-specific parameters \n",
    "nobs=len(IndSPF)\n",
    "SPF_bins=np.array([-10,0,0.5,1,1.5,2,2.5,3,3.5,4,10])\n",
    "print(\"There are \"+str(len(SPF_bins)-1)+\" bins in SPF\")"
   ]
  },
  {
   "cell_type": "code",
   "execution_count": 78,
   "metadata": {},
   "outputs": [
    {
     "data": {
      "text/plain": [
       "2"
      ]
     },
     "execution_count": 78,
     "metadata": {},
     "output_type": "execute_result"
    }
   ],
   "source": [
    "len({'mean':1,'var':2})"
   ]
  },
  {
   "cell_type": "code",
   "execution_count": 79,
   "metadata": {
    "code_folding": []
   },
   "outputs": [
    {
     "name": "stdout",
     "output_type": "stream",
     "text": [
      "0\n",
      "[0.  0.  0.  0.  0.  0.4 0.4 0.2 0.  0. ]\n",
      "[0.  0.  0.  0.  0.2 0.5 0.3 0.  0.  0. ]\n",
      "[0.  0.  0.  0.  0.  0.4 0.4 0.2 0.  0. ]\n",
      "[0.  0.  0.  0.  0.2 0.5 0.3 0.  0.  0. ]\n",
      "probs sum up to 1\n",
      "at least three bins with positive probs\n",
      "lower bound is 2.0\n",
      "upper bound is 3.5\n",
      "4 parameters\n",
      "1.7864800540885444\n",
      "0.015267747488349866\n",
      "0.12356272693798023\n",
      "0.1285285506029574\n",
      "probs sum up to 1\n",
      "at least three bins with positive probs\n",
      "lower bound is 1.5\n",
      "upper bound is 3.0\n",
      "4 parameters\n",
      "1.5\n",
      "0.0\n",
      "0.0\n",
      "0.19901505366719574\n",
      "[]\n",
      "[]\n",
      "[]\n"
     ]
    },
    {
     "ename": "KeyError",
     "evalue": "'iqr1090'",
     "output_type": "error",
     "traceback": [
      "\u001b[0;31m---------------------------------------------------------------------------\u001b[0m",
      "\u001b[0;31mKeyError\u001b[0m                                  Traceback (most recent call last)",
      "\u001b[0;32m/var/folders/39/ks6jc__9375c2fl7h7pwq5jh0000gn/T/ipykernel_36778/596925576.py\u001b[0m in \u001b[0;36m<module>\u001b[0;34m\u001b[0m\n\u001b[1;32m     65\u001b[0m             \u001b[0mprint\u001b[0m\u001b[0;34m(\u001b[0m\u001b[0mstats_est\u001b[0m\u001b[0;34m[\u001b[0m\u001b[0;34m'std'\u001b[0m\u001b[0;34m]\u001b[0m\u001b[0;34m)\u001b[0m\u001b[0;34m\u001b[0m\u001b[0;34m\u001b[0m\u001b[0m\n\u001b[1;32m     66\u001b[0m             \u001b[0mIndSPF_moment_est\u001b[0m\u001b[0;34m[\u001b[0m\u001b[0;34m'PRCPCEStd0'\u001b[0m\u001b[0;34m]\u001b[0m\u001b[0;34m[\u001b[0m\u001b[0mi\u001b[0m\u001b[0;34m]\u001b[0m\u001b[0;34m=\u001b[0m\u001b[0mstats_est\u001b[0m\u001b[0;34m[\u001b[0m\u001b[0;34m'std'\u001b[0m\u001b[0;34m]\u001b[0m\u001b[0;34m\u001b[0m\u001b[0;34m\u001b[0m\u001b[0m\n\u001b[0;32m---> 67\u001b[0;31m             \u001b[0mprint\u001b[0m\u001b[0;34m(\u001b[0m\u001b[0mstats_est\u001b[0m\u001b[0;34m[\u001b[0m\u001b[0;34m'iqr1090'\u001b[0m\u001b[0;34m]\u001b[0m\u001b[0;34m)\u001b[0m\u001b[0;34m\u001b[0m\u001b[0;34m\u001b[0m\u001b[0m\n\u001b[0m\u001b[1;32m     68\u001b[0m             \u001b[0mIndSPF_moment_est\u001b[0m\u001b[0;34m[\u001b[0m\u001b[0;34m'PRCPCEIqr10900'\u001b[0m\u001b[0;34m]\u001b[0m\u001b[0;34m[\u001b[0m\u001b[0mi\u001b[0m\u001b[0;34m]\u001b[0m\u001b[0;34m=\u001b[0m\u001b[0mstats_est\u001b[0m\u001b[0;34m[\u001b[0m\u001b[0;34m'iqr1090'\u001b[0m\u001b[0;34m]\u001b[0m\u001b[0;34m\u001b[0m\u001b[0;34m\u001b[0m\u001b[0m\n\u001b[1;32m     69\u001b[0m     \u001b[0;32mif\u001b[0m \u001b[0;32mnot\u001b[0m \u001b[0mnp\u001b[0m\u001b[0;34m.\u001b[0m\u001b[0misnan\u001b[0m\u001b[0;34m(\u001b[0m\u001b[0mPRCPCE_y1\u001b[0m\u001b[0;34m)\u001b[0m\u001b[0;34m.\u001b[0m\u001b[0many\u001b[0m\u001b[0;34m(\u001b[0m\u001b[0;34m)\u001b[0m\u001b[0;34m:\u001b[0m\u001b[0;34m\u001b[0m\u001b[0;34m\u001b[0m\u001b[0m\n",
      "\u001b[0;31mKeyError\u001b[0m: 'iqr1090'"
     ]
    }
   ],
   "source": [
    "##############################################\n",
    "### attention: the estimation happens here!!!!!\n",
    "###################################################\n",
    "\n",
    "#IndSPF['PRCCPIMean0']='nan'   # CPI from y-1 to y \n",
    "#IndSPF['PRCCPIVar0']='nan'    \n",
    "#IndSPF['PRCCPIMean1']='nan'  # CPI from y to y+1  \n",
    "#IndSPF['PRCCPIVar1']='nan'\n",
    "#IndSPF['PRCPCEMean0']='nan' # PCE from y-1 to y\n",
    "#IndSPF['PRCPCEVar0']='nan'\n",
    "#IndSPF['PRCPCEMean1']='nan' # PCE from y to y+1\n",
    "#IndSPF['PRCPCEVar1']='nan'\n",
    "\n",
    "\n",
    "## creating positions \n",
    "index  = IndSPF.index\n",
    "columns=['PRCCPIMean0','PRCCPIVar0', 'PRCCPIStd0','PRCCPIIqr10900',\n",
    "         'PRCCPIMean1','PRCCPIVar1','PRCCPIStd1','PRCCPIIqr10901',\n",
    "         'PRCPCEMean0','PRCPCEVar0','PRCPCEStd0','PRCPCEIqr10900',\n",
    "         'PRCPCEMean1','PRCPCEVar1','PRCPCEStd1','PRCPCEIqr10901']\n",
    "IndSPF_moment_est = pd.DataFrame(index=index,columns=columns)\n",
    "\n",
    "## Invoking the estimation\n",
    "\n",
    "for i in range(nobs):\n",
    "    print(i)\n",
    "    ## take the probabilities (flip to the right order, normalized to 0-1)\n",
    "    PRCCPI_y0 = np.flip(np.array([IndSPF.iloc[i,:]['PRCCPI'+str(n)]/100 for n in range(1,11)]))\n",
    "    print(PRCCPI_y0)\n",
    "    PRCCPI_y1 = np.flip(np.array([IndSPF.iloc[i,:]['PRCCPI'+str(n)]/100 for n in range(11,21)]))\n",
    "    print(PRCCPI_y1)\n",
    "    PRCPCE_y0 = np.flip(np.array([IndSPF.iloc[i,:]['PRCPCE'+str(n)]/100 for n in range(1,11)]))\n",
    "    print(PRCCPI_y0)\n",
    "    PRCPCE_y1 = np.flip(np.array([IndSPF.iloc[i,:]['PRCPCE'+str(n)]/100 for n in range(11,21)]))\n",
    "    print(PRCCPI_y1)\n",
    "    if not np.isnan(PRCCPI_y0).any():\n",
    "        stats_est=SynDensityStat(SPF_bins,PRCCPI_y0)\n",
    "        if len(stats_est)>0:\n",
    "            IndSPF_moment_est['PRCCPIMean0'][i]=stats_est['mean']\n",
    "            print(stats_est['mean'])\n",
    "            IndSPF_moment_est['PRCCPIVar0'][i]=stats_est['variance']\n",
    "            print(stats_est['variance'])\n",
    "            IndSPF_moment_est['PRCCPIStd0'][i]=stats_est['std']\n",
    "            print(stats_est['std'])\n",
    "            IndSPF_moment_est['PRCCPIIqr10900'][i]=stats_est['iqr1090']\n",
    "            print(stats_est['iqr1090'])            \n",
    "    if not np.isnan(PRCCPI_y1).any():\n",
    "        stats_est=SynDensityStat(SPF_bins,PRCCPI_y1)\n",
    "        if len(stats_est):\n",
    "            print(stats_est['mean'])\n",
    "            IndSPF_moment_est['PRCCPIMean1'][i]=stats_est['mean']\n",
    "            print(stats_est['variance'])\n",
    "            IndSPF_moment_est['PRCCPIVar1'][i]=stats_est['variance']\n",
    "            print(stats_est['std'])\n",
    "            IndSPF_moment_est['PRCCPIStd1'][i]=stats_est['std']\n",
    "            print(stats_est['iqr1090'])\n",
    "            IndSPF_moment_est['PRCCPIIqr10901'][i]=stats_est['iqr1090']\n",
    "    if not np.isnan(PRCPCE_y0).any():\n",
    "        if len(stats_est)>0:\n",
    "            stats_est=SynDensityStat(SPF_bins,PRCPCE_y0)\n",
    "            print(stats_est['mean'])\n",
    "            IndSPF_moment_est['PRCPCEMean0'][i]=stats_est['mean']\n",
    "            print(stats_est['variance'])\n",
    "            IndSPF_moment_est['PRCPCEVar0'][i]=stats_est['variance']\n",
    "            print(stats_est['std'])\n",
    "            IndSPF_moment_est['PRCPCEStd0'][i]=stats_est['std']\n",
    "            print(stats_est['iqr1090'])\n",
    "            IndSPF_moment_est['PRCPCEIqr10900'][i]=stats_est['iqr1090']\n",
    "    if not np.isnan(PRCPCE_y1).any():\n",
    "        if len(stats_est)>0:\n",
    "            stats_est=SynDensityStat(SPF_bins,PRCPCE_y1)\n",
    "            print(stats_est)\n",
    "            print(stats_est['mean'])\n",
    "            IndSPF_moment_est['PRCPCEMean1'][i]=stats_est['mean']\n",
    "            print(stats_est['variance'])\n",
    "            IndSPF_moment_est['PRCPCEVar1'][i]=stats_est['variance']\n",
    "            print(stats_est['std'])\n",
    "            IndSPF_moment_est['PRCPCEStd1'][i]=stats_est['std']\n",
    "            print(stats_est['iqr1090'])\n",
    "            IndSPF_moment_est['PRCPCEIqr10900'][i]=stats_est['iqr1090']"
   ]
  },
  {
   "cell_type": "code",
   "execution_count": 80,
   "metadata": {},
   "outputs": [],
   "source": [
    "### exporting moments estimates to pkl\n",
    "IndSPF_est = pd.concat([IndSPF,IndSPF_moment_est], join='inner', axis=1)\n",
    "IndSPF_est.to_pickle(\"./DstSampleEst.pkl\")\n",
    "IndSPF_pk = pd.read_pickle('./DstSampleEst.pkl')"
   ]
  },
  {
   "cell_type": "code",
   "execution_count": 24,
   "metadata": {},
   "outputs": [],
   "source": [
    "IndSPF_pk['PRCCPIMean0']=pd.to_numeric(IndSPF_pk['PRCCPIMean0'],errors='coerce')   # CPI from y-1 to y \n",
    "IndSPF_pk['PRCCPIVar0']=pd.to_numeric(IndSPF_pk['PRCCPIVar0'],errors='coerce')  \n",
    "IndSPF_pk['PRCCPIStd0']=pd.to_numeric(IndSPF_pk['PRCCPIStd0'],errors='coerce') \n",
    "IndSPF_pk['PRCCPIIqr10900']=pd.to_numeric(IndSPF_pk['PRCCPIIqr10900'],errors='coerce') \n",
    "\n",
    "IndSPF_pk['PRCCPIMean1']=pd.to_numeric(IndSPF_pk['PRCCPIMean1'],errors='coerce')   # CPI from y to y+1  \n",
    "IndSPF_pk['PRCCPIVar1']=pd.to_numeric(IndSPF_pk['PRCCPIVar1'],errors='coerce')\n",
    "IndSPF_pk['PRCCPIStd1']=pd.to_numeric(IndSPF_pk['PRCCPIStd1'],errors='coerce')\n",
    "IndSPF_pk['PRCCPIIqr10901']=pd.to_numeric(IndSPF_pk['PRCCPIIqr10901'],errors='coerce')\n",
    "\n",
    "IndSPF_pk['PRCPCEMean0']=pd.to_numeric(IndSPF_pk['PRCPCEMean0'],errors='coerce')  # PCE from y-1 to y\n",
    "IndSPF_pk['PRCPCEVar0']=pd.to_numeric(IndSPF_pk['PRCPCEVar0'],errors='coerce') \n",
    "IndSPF_pk['PRCPCEStd0']=pd.to_numeric(IndSPF_pk['PRCPCEStd0'],errors='coerce') \n",
    "IndSPF_pk['PRCPCEIqr10900']=pd.to_numeric(IndSPF_pk['PRCPCEIqr10900'],errors='coerce') \n",
    "\n",
    "IndSPF_pk['PRCPCEMean1']=pd.to_numeric(IndSPF_pk['PRCPCEMean1'],errors='coerce')  # PCE from y to y+1\n",
    "IndSPF_pk['PRCPCEVar1']=pd.to_numeric(IndSPF_pk['PRCPCEVar1'],errors='coerce')\n",
    "IndSPF_pk['PRCPCEStd1']=pd.to_numeric(IndSPF_pk['PRCPCEStd1'],errors='coerce')\n",
    "IndSPF_pk['PRCPCEIqr10901']=pd.to_numeric(IndSPF_pk['PRCPCEIqr10901'],errors='coerce')"
   ]
  },
  {
   "cell_type": "code",
   "execution_count": 25,
   "metadata": {},
   "outputs": [
    {
     "data": {
      "text/html": [
       "<div>\n",
       "<style scoped>\n",
       "    .dataframe tbody tr th:only-of-type {\n",
       "        vertical-align: middle;\n",
       "    }\n",
       "\n",
       "    .dataframe tbody tr th {\n",
       "        vertical-align: top;\n",
       "    }\n",
       "\n",
       "    .dataframe thead th {\n",
       "        text-align: right;\n",
       "    }\n",
       "</style>\n",
       "<table border=\"1\" class=\"dataframe\">\n",
       "  <thead>\n",
       "    <tr style=\"text-align: right;\">\n",
       "      <th></th>\n",
       "      <th>date</th>\n",
       "      <th>year</th>\n",
       "      <th>quarter</th>\n",
       "      <th>ID</th>\n",
       "      <th>INDUSTRY</th>\n",
       "      <th>PRCCPI1</th>\n",
       "      <th>PRCCPI2</th>\n",
       "      <th>PRCCPI3</th>\n",
       "      <th>PRCCPI4</th>\n",
       "      <th>PRCCPI5</th>\n",
       "      <th>...</th>\n",
       "      <th>PRCCPIStd1</th>\n",
       "      <th>PRCCPIIrq10901</th>\n",
       "      <th>PRCPCEMean0</th>\n",
       "      <th>PRCPCEVar0</th>\n",
       "      <th>PRCPCEStd0</th>\n",
       "      <th>PRCPCEIrq10900</th>\n",
       "      <th>PRCPCEMean1</th>\n",
       "      <th>PRCPCEVar1</th>\n",
       "      <th>PRCPCEStd1</th>\n",
       "      <th>PRCPCEIrq10901</th>\n",
       "    </tr>\n",
       "  </thead>\n",
       "  <tbody>\n",
       "    <tr>\n",
       "      <th>2088</th>\n",
       "      <td>2019-01-01</td>\n",
       "      <td>2019.0</td>\n",
       "      <td>1.0</td>\n",
       "      <td>583.0</td>\n",
       "      <td></td>\n",
       "      <td>0.00</td>\n",
       "      <td>0.00</td>\n",
       "      <td>0.00</td>\n",
       "      <td>0.0</td>\n",
       "      <td>70.00</td>\n",
       "      <td>...</td>\n",
       "      <td>0.204124</td>\n",
       "      <td>NaN</td>\n",
       "      <td>NaN</td>\n",
       "      <td>NaN</td>\n",
       "      <td>NaN</td>\n",
       "      <td>NaN</td>\n",
       "      <td>NaN</td>\n",
       "      <td>NaN</td>\n",
       "      <td>NaN</td>\n",
       "      <td>NaN</td>\n",
       "    </tr>\n",
       "    <tr>\n",
       "      <th>2089</th>\n",
       "      <td>2019-01-01</td>\n",
       "      <td>2019.0</td>\n",
       "      <td>1.0</td>\n",
       "      <td>584.0</td>\n",
       "      <td></td>\n",
       "      <td>0.00</td>\n",
       "      <td>1.30</td>\n",
       "      <td>11.50</td>\n",
       "      <td>36.4</td>\n",
       "      <td>38.00</td>\n",
       "      <td>...</td>\n",
       "      <td>0.987098</td>\n",
       "      <td>0.513595</td>\n",
       "      <td>0.520586</td>\n",
       "      <td>0.015981</td>\n",
       "      <td>0.126414</td>\n",
       "      <td>0.390599</td>\n",
       "      <td>1.869125</td>\n",
       "      <td>0.85922</td>\n",
       "      <td>0.926941</td>\n",
       "      <td>0.672286</td>\n",
       "    </tr>\n",
       "    <tr>\n",
       "      <th>2090</th>\n",
       "      <td>2019-01-01</td>\n",
       "      <td>2019.0</td>\n",
       "      <td>1.0</td>\n",
       "      <td>585.0</td>\n",
       "      <td></td>\n",
       "      <td>0.00</td>\n",
       "      <td>0.00</td>\n",
       "      <td>0.00</td>\n",
       "      <td>10.0</td>\n",
       "      <td>60.00</td>\n",
       "      <td>...</td>\n",
       "      <td>0.177939</td>\n",
       "      <td>0.246593</td>\n",
       "      <td>0.533949</td>\n",
       "      <td>0.045833</td>\n",
       "      <td>0.214087</td>\n",
       "      <td>0.199015</td>\n",
       "      <td>0.488048</td>\n",
       "      <td>0.03533</td>\n",
       "      <td>0.187964</td>\n",
       "      <td>0.220728</td>\n",
       "    </tr>\n",
       "    <tr>\n",
       "      <th>2091</th>\n",
       "      <td>2019-01-01</td>\n",
       "      <td>2019.0</td>\n",
       "      <td>1.0</td>\n",
       "      <td>586.0</td>\n",
       "      <td></td>\n",
       "      <td>0.07</td>\n",
       "      <td>0.87</td>\n",
       "      <td>5.12</td>\n",
       "      <td>16.2</td>\n",
       "      <td>27.78</td>\n",
       "      <td>...</td>\n",
       "      <td>0.878570</td>\n",
       "      <td>0.531468</td>\n",
       "      <td>NaN</td>\n",
       "      <td>NaN</td>\n",
       "      <td>NaN</td>\n",
       "      <td>NaN</td>\n",
       "      <td>1.705102</td>\n",
       "      <td>0.39142</td>\n",
       "      <td>0.625636</td>\n",
       "      <td>0.445792</td>\n",
       "    </tr>\n",
       "    <tr>\n",
       "      <th>2092</th>\n",
       "      <td>NaT</td>\n",
       "      <td>NaN</td>\n",
       "      <td>NaN</td>\n",
       "      <td>NaN</td>\n",
       "      <td></td>\n",
       "      <td>NaN</td>\n",
       "      <td>NaN</td>\n",
       "      <td>NaN</td>\n",
       "      <td>NaN</td>\n",
       "      <td>NaN</td>\n",
       "      <td>...</td>\n",
       "      <td>NaN</td>\n",
       "      <td>NaN</td>\n",
       "      <td>NaN</td>\n",
       "      <td>NaN</td>\n",
       "      <td>NaN</td>\n",
       "      <td>NaN</td>\n",
       "      <td>NaN</td>\n",
       "      <td>NaN</td>\n",
       "      <td>NaN</td>\n",
       "      <td>NaN</td>\n",
       "    </tr>\n",
       "  </tbody>\n",
       "</table>\n",
       "<p>5 rows × 62 columns</p>\n",
       "</div>"
      ],
      "text/plain": [
       "           date    year  quarter     ID INDUSTRY  PRCCPI1  PRCCPI2  PRCCPI3  \\\n",
       "2088 2019-01-01  2019.0      1.0  583.0              0.00     0.00     0.00   \n",
       "2089 2019-01-01  2019.0      1.0  584.0              0.00     1.30    11.50   \n",
       "2090 2019-01-01  2019.0      1.0  585.0              0.00     0.00     0.00   \n",
       "2091 2019-01-01  2019.0      1.0  586.0              0.07     0.87     5.12   \n",
       "2092        NaT     NaN      NaN    NaN               NaN      NaN      NaN   \n",
       "\n",
       "      PRCCPI4  PRCCPI5  ...  PRCCPIStd1  PRCCPIIrq10901  PRCPCEMean0  \\\n",
       "2088      0.0    70.00  ...    0.204124             NaN          NaN   \n",
       "2089     36.4    38.00  ...    0.987098        0.513595     0.520586   \n",
       "2090     10.0    60.00  ...    0.177939        0.246593     0.533949   \n",
       "2091     16.2    27.78  ...    0.878570        0.531468          NaN   \n",
       "2092      NaN      NaN  ...         NaN             NaN          NaN   \n",
       "\n",
       "      PRCPCEVar0  PRCPCEStd0  PRCPCEIrq10900  PRCPCEMean1  PRCPCEVar1  \\\n",
       "2088         NaN         NaN             NaN          NaN         NaN   \n",
       "2089    0.015981    0.126414        0.390599     1.869125     0.85922   \n",
       "2090    0.045833    0.214087        0.199015     0.488048     0.03533   \n",
       "2091         NaN         NaN             NaN     1.705102     0.39142   \n",
       "2092         NaN         NaN             NaN          NaN         NaN   \n",
       "\n",
       "      PRCPCEStd1  PRCPCEIrq10901  \n",
       "2088         NaN             NaN  \n",
       "2089    0.926941        0.672286  \n",
       "2090    0.187964        0.220728  \n",
       "2091    0.625636        0.445792  \n",
       "2092         NaN             NaN  \n",
       "\n",
       "[5 rows x 62 columns]"
      ]
     },
     "execution_count": 25,
     "metadata": {},
     "output_type": "execute_result"
    }
   ],
   "source": [
    "IndSPF_pk.tail()"
   ]
  },
  {
   "cell_type": "code",
   "execution_count": 26,
   "metadata": {},
   "outputs": [],
   "source": [
    "IndSPF_pk.to_stata('../data/Dstsample_data.dta')"
   ]
  },
  {
   "cell_type": "code",
   "execution_count": 27,
   "metadata": {
    "code_folding": [],
    "lines_to_next_cell": 0,
    "scrolled": true
   },
   "outputs": [
    {
     "name": "stdout",
     "output_type": "stream",
     "text": [
      "8 abnormals\n",
      "167\n",
      "-69.98106437076153\n",
      "[0.   0.   0.   0.05 0.14 0.25 0.3  0.15 0.08 0.03]\n",
      "probs sum up to 1\n",
      "at least three bins with positive probs\n",
      "lower bound is 1.0\n",
      "upper bound is 10.0\n",
      "2 parameters\n",
      "-69.98106437076153\n",
      "213\n",
      "-69.98106437076153\n",
      "[0.   0.   0.   0.05 0.14 0.25 0.3  0.15 0.08 0.03]\n",
      "probs sum up to 1\n",
      "at least three bins with positive probs\n",
      "lower bound is 1.0\n",
      "upper bound is 10.0\n",
      "2 parameters\n",
      "-69.98106437076153\n",
      "214\n",
      "-33.94734206578234\n",
      "[0.   0.   0.   0.01 0.06 0.23 0.38 0.28 0.03 0.01]\n",
      "probs sum up to 1\n",
      "at least three bins with positive probs\n",
      "lower bound is 1.0\n",
      "upper bound is 10.0\n",
      "2 parameters\n",
      "-33.94734206578234\n",
      "347\n",
      "-92.78429980074593\n",
      "[0.   0.   0.   0.04 0.05 0.49 0.19 0.15 0.05 0.03]\n",
      "probs sum up to 1\n",
      "at least three bins with positive probs\n",
      "lower bound is 1.0\n",
      "upper bound is 10.0\n"
     ]
    },
    {
     "name": "stderr",
     "output_type": "stream",
     "text": [
      "<ipython-input-4-3d92416be270>:20: RuntimeWarning: invalid value encountered in sqrt\n",
      "  std = np.sqrt(var)\n",
      "<ipython-input-4-3d92416be270>:20: RuntimeWarning: invalid value encountered in sqrt\n",
      "  std = np.sqrt(var)\n",
      "<ipython-input-4-3d92416be270>:20: RuntimeWarning: invalid value encountered in sqrt\n",
      "  std = np.sqrt(var)\n",
      "<ipython-input-4-3d92416be270>:20: RuntimeWarning: invalid value encountered in sqrt\n",
      "  std = np.sqrt(var)\n"
     ]
    },
    {
     "name": "stdout",
     "output_type": "stream",
     "text": [
      "2 parameters\n",
      "-92.78429980074593\n",
      "422\n",
      "-4.75\n",
      "[0.5 0.5 0.  0.  0.  0.  0.  0.  0.  0. ]\n",
      "probs sum up to 1\n",
      "all bins have the same prob\n",
      "length pos bins is > 1\n",
      "{'lb': -10.0, 'ub': 0.5}\n",
      "-4.75\n",
      "445\n",
      "-101.59524650854313\n",
      "[0.   0.   0.   0.05 0.1  0.35 0.35 0.1  0.03 0.02]\n",
      "probs sum up to 1\n",
      "at least three bins with positive probs\n",
      "lower bound is 1.0\n",
      "upper bound is 10.0\n",
      "2 parameters\n",
      "-101.59524650854313\n",
      "488\n",
      "-5.0\n",
      "[1. 0. 0. 0. 0. 0. 0. 0. 0. 0.]\n",
      "probs sum up to 1\n",
      "Only one interval with positive probs\n",
      "length pos bins is 1\n",
      "{'lb': -10.0, 'ub': 0.0}\n",
      "-5.0\n",
      "922\n",
      "-18567.992152353687\n",
      "[0.014 0.024 0.016 0.028 0.03  0.05  0.083 0.139 0.231 0.385]\n",
      "probs sum up to 1\n",
      "at least three bins with positive probs\n",
      "lower bound is -10.0\n",
      "upper bound is 10.0\n",
      "4 parameters\n",
      "-18567.992152353687\n"
     ]
    },
    {
     "name": "stderr",
     "output_type": "stream",
     "text": [
      "<ipython-input-4-3d92416be270>:20: RuntimeWarning: invalid value encountered in sqrt\n",
      "  std = np.sqrt(var)\n"
     ]
    },
    {
     "data": {
      "image/png": "[encoded data removed]",
      "text/plain": [
       "<Figure size 432x288 with 1 Axes>"
      ]
     },
     "metadata": {
      "needs_background": "light"
     },
     "output_type": "display_data"
    }
   ],
   "source": [
    "### Robustness checks: focus on big negative mean estimates \n",
    "sim_bins_data = SPF_bins\n",
    "print(str(sum(IndSPF_pk['PRCCPIMean1']<-2))+' abnormals')\n",
    "ct=0\n",
    "figure=plt.plot()\n",
    "for id in IndSPF_pk.index[IndSPF_pk['PRCCPIMean1']<-2]:\n",
    "    print(id)\n",
    "    print(IndSPF_pk['PRCCPIMean1'][id])\n",
    "    sim_probs_data= np.flip(np.array([IndSPF['PRCCPI'+str(n)][id]/100 for n in range(11,21)]))\n",
    "    plt.bar(sim_bins_data[1:],sim_probs_data)\n",
    "    print(sim_probs_data)\n",
    "    stats_est=SynDensityStat(SPF_bins,sim_probs_data)\n",
    "    print(stats_est['mean'])"
   ]
  },
  {
   "cell_type": "code",
   "execution_count": 28,
   "metadata": {},
   "outputs": [
    {
     "ename": "IndentationError",
     "evalue": "expected an indented block (<ipython-input-28-a765e0a89db9>, line 6)",
     "output_type": "error",
     "traceback": [
      "\u001b[1;36m  File \u001b[1;32m\"<ipython-input-28-a765e0a89db9>\"\u001b[1;36m, line \u001b[1;32m6\u001b[0m\n\u001b[1;33m    pos_bin.append(probs[i])\u001b[0m\n\u001b[1;37m    ^\u001b[0m\n\u001b[1;31mIndentationError\u001b[0m\u001b[1;31m:\u001b[0m expected an indented block\n"
     ]
    }
   ],
   "source": []
  },
  {
   "cell_type": "code",
   "execution_count": null,
   "metadata": {},
   "outputs": [],
   "source": []
  }
 ],
 "metadata": {
  "jupytext": {
   "formats": "ipynb,py:light"
  },
  "kernelspec": {
   "display_name": "Python 3 (ipykernel)",
   "language": "python",
   "name": "python3"
  },
  "language_info": {
   "codemirror_mode": {
    "name": "ipython",
    "version": 3
   },
   "file_extension": ".py",
   "mimetype": "text/x-python",
   "name": "python",
   "nbconvert_exporter": "python",
   "pygments_lexer": "ipython3",
   "version": "3.8.5"
  }
 },
 "nbformat": 4,
 "nbformat_minor": 2
}
